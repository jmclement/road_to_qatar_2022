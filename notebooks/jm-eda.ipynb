{
 "cells": [
  {
   "cell_type": "markdown",
   "id": "fb2edd47",
   "metadata": {},
   "source": [
    "# JM - Exploratory Data Analysis - Time Series"
   ]
  },
  {
   "cell_type": "markdown",
   "id": "3e229b90",
   "metadata": {},
   "source": [
    "## General setup steps"
   ]
  },
  {
   "cell_type": "markdown",
   "id": "6e9b83a5",
   "metadata": {},
   "source": [
    "### Imports"
   ]
  },
  {
   "cell_type": "code",
   "execution_count": 7,
   "id": "ffa1f74f",
   "metadata": {},
   "outputs": [],
   "source": [
    "import pandas as pd\n",
    "import os\n",
    "from sklearn.preprocessing import StandardScaler,OneHotEncoder"
   ]
  },
  {
   "cell_type": "markdown",
   "id": "887269f2",
   "metadata": {},
   "source": [
    "### Importing the dataset"
   ]
  },
  {
   "cell_type": "code",
   "execution_count": 12,
   "id": "28f2ae64",
   "metadata": {},
   "outputs": [],
   "source": [
    "full_data_df = pd.read_csv('../road_to_qatar_2022/data/fulldataset.csv')"
   ]
  },
  {
   "cell_type": "code",
   "execution_count": 3,
   "id": "9a6d8038",
   "metadata": {},
   "outputs": [
    {
     "data": {
      "text/html": [
       "<div>\n",
       "<style scoped>\n",
       "    .dataframe tbody tr th:only-of-type {\n",
       "        vertical-align: middle;\n",
       "    }\n",
       "\n",
       "    .dataframe tbody tr th {\n",
       "        vertical-align: top;\n",
       "    }\n",
       "\n",
       "    .dataframe thead th {\n",
       "        text-align: right;\n",
       "    }\n",
       "</style>\n",
       "<table border=\"1\" class=\"dataframe\">\n",
       "  <thead>\n",
       "    <tr style=\"text-align: right;\">\n",
       "      <th></th>\n",
       "      <th>date</th>\n",
       "      <th>home_team</th>\n",
       "      <th>away_team</th>\n",
       "      <th>home_score</th>\n",
       "      <th>away_score</th>\n",
       "      <th>win_conditions</th>\n",
       "      <th>home_team_rank</th>\n",
       "      <th>home_team_points</th>\n",
       "      <th>home_team_previous_points</th>\n",
       "      <th>away_team_rank</th>\n",
       "      <th>away_team_points</th>\n",
       "      <th>away_team_previous_points</th>\n",
       "    </tr>\n",
       "  </thead>\n",
       "  <tbody>\n",
       "    <tr>\n",
       "      <th>0</th>\n",
       "      <td>1930-07-13</td>\n",
       "      <td>France</td>\n",
       "      <td>Mexico</td>\n",
       "      <td>4.0</td>\n",
       "      <td>1.0</td>\n",
       "      <td></td>\n",
       "      <td>4</td>\n",
       "      <td>1759.78</td>\n",
       "      <td>1764.85</td>\n",
       "      <td>13</td>\n",
       "      <td>1644.89</td>\n",
       "      <td>1649.57</td>\n",
       "    </tr>\n",
       "    <tr>\n",
       "      <th>1</th>\n",
       "      <td>1930-07-13</td>\n",
       "      <td>USA</td>\n",
       "      <td>Belgium</td>\n",
       "      <td>3.0</td>\n",
       "      <td>0.0</td>\n",
       "      <td></td>\n",
       "      <td>16</td>\n",
       "      <td>1627.48</td>\n",
       "      <td>1635.01</td>\n",
       "      <td>2</td>\n",
       "      <td>1816.71</td>\n",
       "      <td>1821.92</td>\n",
       "    </tr>\n",
       "    <tr>\n",
       "      <th>2</th>\n",
       "      <td>1930-07-14</td>\n",
       "      <td>Yugoslavia</td>\n",
       "      <td>Brazil</td>\n",
       "      <td>2.0</td>\n",
       "      <td>1.0</td>\n",
       "      <td></td>\n",
       "      <td>6</td>\n",
       "      <td>64.00</td>\n",
       "      <td>64.00</td>\n",
       "      <td>1</td>\n",
       "      <td>1841.30</td>\n",
       "      <td>1837.56</td>\n",
       "    </tr>\n",
       "    <tr>\n",
       "      <th>3</th>\n",
       "      <td>1930-07-14</td>\n",
       "      <td>Romania</td>\n",
       "      <td>Peru</td>\n",
       "      <td>3.0</td>\n",
       "      <td>1.0</td>\n",
       "      <td></td>\n",
       "      <td>53</td>\n",
       "      <td>1434.68</td>\n",
       "      <td>1427.84</td>\n",
       "      <td>23</td>\n",
       "      <td>1561.01</td>\n",
       "      <td>1562.24</td>\n",
       "    </tr>\n",
       "    <tr>\n",
       "      <th>4</th>\n",
       "      <td>1930-07-15</td>\n",
       "      <td>Argentina</td>\n",
       "      <td>France</td>\n",
       "      <td>1.0</td>\n",
       "      <td>0.0</td>\n",
       "      <td></td>\n",
       "      <td>3</td>\n",
       "      <td>1773.88</td>\n",
       "      <td>1770.65</td>\n",
       "      <td>4</td>\n",
       "      <td>1759.78</td>\n",
       "      <td>1764.85</td>\n",
       "    </tr>\n",
       "    <tr>\n",
       "      <th>...</th>\n",
       "      <td>...</td>\n",
       "      <td>...</td>\n",
       "      <td>...</td>\n",
       "      <td>...</td>\n",
       "      <td>...</td>\n",
       "      <td>...</td>\n",
       "      <td>...</td>\n",
       "      <td>...</td>\n",
       "      <td>...</td>\n",
       "      <td>...</td>\n",
       "      <td>...</td>\n",
       "      <td>...</td>\n",
       "    </tr>\n",
       "    <tr>\n",
       "      <th>1026</th>\n",
       "      <td>2022-02-05</td>\n",
       "      <td>Cameroon</td>\n",
       "      <td>Burkina Faso</td>\n",
       "      <td>3.0</td>\n",
       "      <td>3.0</td>\n",
       "      <td>Cameroon</td>\n",
       "      <td>43</td>\n",
       "      <td>1471.44</td>\n",
       "      <td>1484.95</td>\n",
       "      <td>54</td>\n",
       "      <td>1432.25</td>\n",
       "      <td>1425.64</td>\n",
       "    </tr>\n",
       "    <tr>\n",
       "      <th>1027</th>\n",
       "      <td>2022-02-06</td>\n",
       "      <td>Senegal</td>\n",
       "      <td>Egypt</td>\n",
       "      <td>0.0</td>\n",
       "      <td>0.0</td>\n",
       "      <td>Senegal</td>\n",
       "      <td>18</td>\n",
       "      <td>1584.38</td>\n",
       "      <td>1584.59</td>\n",
       "      <td>39</td>\n",
       "      <td>1486.44</td>\n",
       "      <td>1482.63</td>\n",
       "    </tr>\n",
       "    <tr>\n",
       "      <th>1028</th>\n",
       "      <td>2022-03-29</td>\n",
       "      <td>Senegal</td>\n",
       "      <td>Egypt</td>\n",
       "      <td>1.0</td>\n",
       "      <td>0.0</td>\n",
       "      <td>Senegal</td>\n",
       "      <td>18</td>\n",
       "      <td>1584.38</td>\n",
       "      <td>1584.59</td>\n",
       "      <td>39</td>\n",
       "      <td>1486.44</td>\n",
       "      <td>1482.63</td>\n",
       "    </tr>\n",
       "    <tr>\n",
       "      <th>1029</th>\n",
       "      <td>2022-06-13</td>\n",
       "      <td>Australia</td>\n",
       "      <td>Peru</td>\n",
       "      <td>0.0</td>\n",
       "      <td>0.0</td>\n",
       "      <td>Australia</td>\n",
       "      <td>38</td>\n",
       "      <td>1488.72</td>\n",
       "      <td>1483.73</td>\n",
       "      <td>23</td>\n",
       "      <td>1561.01</td>\n",
       "      <td>1562.24</td>\n",
       "    </tr>\n",
       "    <tr>\n",
       "      <th>1030</th>\n",
       "      <td>2022-06-14</td>\n",
       "      <td>Chile</td>\n",
       "      <td>Ghana</td>\n",
       "      <td>0.0</td>\n",
       "      <td>0.0</td>\n",
       "      <td>Ghana</td>\n",
       "      <td>29</td>\n",
       "      <td>1509.61</td>\n",
       "      <td>1514.86</td>\n",
       "      <td>61</td>\n",
       "      <td>1393.00</td>\n",
       "      <td>1393.47</td>\n",
       "    </tr>\n",
       "  </tbody>\n",
       "</table>\n",
       "<p>1031 rows × 12 columns</p>\n",
       "</div>"
      ],
      "text/plain": [
       "            date   home_team     away_team  home_score  away_score  \\\n",
       "0     1930-07-13      France        Mexico         4.0         1.0   \n",
       "1     1930-07-13         USA       Belgium         3.0         0.0   \n",
       "2     1930-07-14  Yugoslavia        Brazil         2.0         1.0   \n",
       "3     1930-07-14     Romania          Peru         3.0         1.0   \n",
       "4     1930-07-15   Argentina        France         1.0         0.0   \n",
       "...          ...         ...           ...         ...         ...   \n",
       "1026  2022-02-05    Cameroon  Burkina Faso         3.0         3.0   \n",
       "1027  2022-02-06     Senegal         Egypt         0.0         0.0   \n",
       "1028  2022-03-29     Senegal         Egypt         1.0         0.0   \n",
       "1029  2022-06-13   Australia          Peru         0.0         0.0   \n",
       "1030  2022-06-14       Chile         Ghana         0.0         0.0   \n",
       "\n",
       "     win_conditions  home_team_rank  home_team_points  \\\n",
       "0                                 4           1759.78   \n",
       "1                                16           1627.48   \n",
       "2                                 6             64.00   \n",
       "3                                53           1434.68   \n",
       "4                                 3           1773.88   \n",
       "...             ...             ...               ...   \n",
       "1026       Cameroon              43           1471.44   \n",
       "1027        Senegal              18           1584.38   \n",
       "1028        Senegal              18           1584.38   \n",
       "1029      Australia              38           1488.72   \n",
       "1030          Ghana              29           1509.61   \n",
       "\n",
       "      home_team_previous_points  away_team_rank  away_team_points  \\\n",
       "0                       1764.85              13           1644.89   \n",
       "1                       1635.01               2           1816.71   \n",
       "2                         64.00               1           1841.30   \n",
       "3                       1427.84              23           1561.01   \n",
       "4                       1770.65               4           1759.78   \n",
       "...                         ...             ...               ...   \n",
       "1026                    1484.95              54           1432.25   \n",
       "1027                    1584.59              39           1486.44   \n",
       "1028                    1584.59              39           1486.44   \n",
       "1029                    1483.73              23           1561.01   \n",
       "1030                    1514.86              61           1393.00   \n",
       "\n",
       "      away_team_previous_points  \n",
       "0                       1649.57  \n",
       "1                       1821.92  \n",
       "2                       1837.56  \n",
       "3                       1562.24  \n",
       "4                       1764.85  \n",
       "...                         ...  \n",
       "1026                    1425.64  \n",
       "1027                    1482.63  \n",
       "1028                    1482.63  \n",
       "1029                    1562.24  \n",
       "1030                    1393.47  \n",
       "\n",
       "[1031 rows x 12 columns]"
      ]
     },
     "execution_count": 3,
     "metadata": {},
     "output_type": "execute_result"
    }
   ],
   "source": [
    "full_data_df"
   ]
  },
  {
   "cell_type": "code",
   "execution_count": 15,
   "id": "0a8de08d",
   "metadata": {},
   "outputs": [
    {
     "name": "stdout",
     "output_type": "stream",
     "text": [
      "<class 'pandas.core.frame.DataFrame'>\n",
      "RangeIndex: 1031 entries, 0 to 1030\n",
      "Data columns (total 12 columns):\n",
      " #   Column                     Non-Null Count  Dtype  \n",
      "---  ------                     --------------  -----  \n",
      " 0   date                       1031 non-null   object \n",
      " 1   home_team                  1031 non-null   object \n",
      " 2   away_team                  1031 non-null   object \n",
      " 3   home_score                 1031 non-null   float64\n",
      " 4   away_score                 1031 non-null   float64\n",
      " 5   win_conditions             1031 non-null   object \n",
      " 6   home_team_rank             1031 non-null   int64  \n",
      " 7   home_team_points           1031 non-null   float64\n",
      " 8   home_team_previous_points  1031 non-null   float64\n",
      " 9   away_team_rank             1031 non-null   int64  \n",
      " 10  away_team_points           1031 non-null   float64\n",
      " 11  away_team_previous_points  1031 non-null   float64\n",
      "dtypes: float64(6), int64(2), object(4)\n",
      "memory usage: 96.8+ KB\n"
     ]
    }
   ],
   "source": [
    "full_data_df.info()"
   ]
  },
  {
   "cell_type": "code",
   "execution_count": 16,
   "id": "3af43075",
   "metadata": {},
   "outputs": [],
   "source": [
    "full_data_df['date'] = pd.to_datetime(full_data_df['date'])"
   ]
  },
  {
   "cell_type": "code",
   "execution_count": 17,
   "id": "8521bb5b",
   "metadata": {},
   "outputs": [
    {
     "name": "stdout",
     "output_type": "stream",
     "text": [
      "<class 'pandas.core.frame.DataFrame'>\n",
      "RangeIndex: 1031 entries, 0 to 1030\n",
      "Data columns (total 12 columns):\n",
      " #   Column                     Non-Null Count  Dtype         \n",
      "---  ------                     --------------  -----         \n",
      " 0   date                       1031 non-null   datetime64[ns]\n",
      " 1   home_team                  1031 non-null   object        \n",
      " 2   away_team                  1031 non-null   object        \n",
      " 3   home_score                 1031 non-null   float64       \n",
      " 4   away_score                 1031 non-null   float64       \n",
      " 5   win_conditions             1031 non-null   object        \n",
      " 6   home_team_rank             1031 non-null   int64         \n",
      " 7   home_team_points           1031 non-null   float64       \n",
      " 8   home_team_previous_points  1031 non-null   float64       \n",
      " 9   away_team_rank             1031 non-null   int64         \n",
      " 10  away_team_points           1031 non-null   float64       \n",
      " 11  away_team_previous_points  1031 non-null   float64       \n",
      "dtypes: datetime64[ns](1), float64(6), int64(2), object(3)\n",
      "memory usage: 96.8+ KB\n"
     ]
    }
   ],
   "source": [
    "full_data_df.info()"
   ]
  },
  {
   "cell_type": "markdown",
   "id": "38cb4d8b",
   "metadata": {},
   "source": [
    "### Clean-Up"
   ]
  },
  {
   "cell_type": "code",
   "execution_count": 20,
   "id": "597e6a3b",
   "metadata": {},
   "outputs": [],
   "source": [
    "teamsId = {}\n",
    "index = 0\n",
    "\n",
    "for idx, row in full_data_df.iterrows():\n",
    "    teamName = row['home_team']\n",
    "    if teamName not in teamsId.keys():\n",
    "        teamsId[teamName] = index\n",
    "        index += 1\n",
    "        \n",
    "    teamName = row['away_team']\n",
    "    if teamName not in teamsId.keys():\n",
    "        teamsId[teamName] = index\n",
    "        index += 1"
   ]
  },
  {
   "cell_type": "code",
   "execution_count": 25,
   "id": "79f9f8f5",
   "metadata": {},
   "outputs": [
    {
     "data": {
      "text/plain": [
       "0"
      ]
     },
     "execution_count": 25,
     "metadata": {},
     "output_type": "execute_result"
    }
   ],
   "source": [
    "teamsId['France']"
   ]
  },
  {
   "cell_type": "code",
   "execution_count": 22,
   "id": "167fbd83",
   "metadata": {},
   "outputs": [],
   "source": [
    "indexedFullData_df = full_data_df"
   ]
  },
  {
   "cell_type": "code",
   "execution_count": 23,
   "id": "dc18234b",
   "metadata": {},
   "outputs": [
    {
     "ename": "TypeError",
     "evalue": "unhashable type: 'Series'",
     "output_type": "error",
     "traceback": [
      "\u001b[0;31m---------------------------------------------------------------------------\u001b[0m",
      "\u001b[0;31mTypeError\u001b[0m                                 Traceback (most recent call last)",
      "Cell \u001b[0;32mIn [23], line 1\u001b[0m\n\u001b[0;32m----> 1\u001b[0m indexedFullData_df[\u001b[38;5;124m'\u001b[39m\u001b[38;5;124mhome_team\u001b[39m\u001b[38;5;124m'\u001b[39m] \u001b[38;5;241m=\u001b[39m \u001b[43mteamsId\u001b[49m\u001b[43m[\u001b[49m\u001b[43mindexedFullData_df\u001b[49m\u001b[43m[\u001b[49m\u001b[38;5;124;43m'\u001b[39;49m\u001b[38;5;124;43mhome_team\u001b[39;49m\u001b[38;5;124;43m'\u001b[39;49m\u001b[43m]\u001b[49m\u001b[43m]\u001b[49m\n\u001b[1;32m      2\u001b[0m indexedFullData_df[\u001b[38;5;124m'\u001b[39m\u001b[38;5;124maway_team\u001b[39m\u001b[38;5;124m'\u001b[39m] \u001b[38;5;241m=\u001b[39m teamsId[indexedFullData_df[\u001b[38;5;124m'\u001b[39m\u001b[38;5;124maway_team\u001b[39m\u001b[38;5;124m'\u001b[39m]]\n",
      "\u001b[0;31mTypeError\u001b[0m: unhashable type: 'Series'"
     ]
    }
   ],
   "source": [
    "indexedFullData_df['home_team'] = teamsId[indexedFullData_df['home_team']]\n",
    "indexedFullData_df['away_team'] = teamsId[indexedFullData_df['away_team']]"
   ]
  },
  {
   "cell_type": "code",
   "execution_count": null,
   "id": "50260907",
   "metadata": {},
   "outputs": [],
   "source": []
  }
 ],
 "metadata": {
  "kernelspec": {
   "display_name": "Python 3 (ipykernel)",
   "language": "python",
   "name": "python3"
  },
  "language_info": {
   "codemirror_mode": {
    "name": "ipython",
    "version": 3
   },
   "file_extension": ".py",
   "mimetype": "text/x-python",
   "name": "python",
   "nbconvert_exporter": "python",
   "pygments_lexer": "ipython3",
   "version": "3.8.13"
  },
  "toc": {
   "base_numbering": 1,
   "nav_menu": {},
   "number_sections": true,
   "sideBar": true,
   "skip_h1_title": false,
   "title_cell": "Table of Contents",
   "title_sidebar": "Contents",
   "toc_cell": false,
   "toc_position": {},
   "toc_section_display": true,
   "toc_window_display": false
  }
 },
 "nbformat": 4,
 "nbformat_minor": 5
}
